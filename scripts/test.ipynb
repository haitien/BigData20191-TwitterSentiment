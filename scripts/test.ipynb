{
 "cells": [
  {
   "cell_type": "code",
   "execution_count": 1,
   "metadata": {},
   "outputs": [],
   "source": [
    "from __future__ import absolute_import\n",
    "from __future__ import division\n",
    "from __future__ import print_function\n",
    "\n",
    "# A Spark Session is how we interact with Spark SQL to create Dataframes\n",
    "from pyspark.sql import SparkSession\n",
    "\n",
    "# PySpark function for replacing characters using a regex. We'll use this to remove newline characters.\n",
    "from pyspark.sql.functions import regexp_replace, col\n",
    "\n",
    "# Data structs for present data type\n",
    "from pyspark.sql.types import StructField, StructType, StringType, IntegerType, TimestampType\n",
    "\n",
    "# This will help catch some PySpark errors\n",
    "from py4j.protocol import Py4JJavaError\n",
    "\n",
    "# Create a SparkSession under the name \"twitter-sentiment\". Viewable via the Spark UI\n",
    "spark = SparkSession.builder.appName(\"twitter-sentiment\").getOrCreate()"
   ]
  },
  {
   "cell_type": "code",
   "execution_count": 2,
   "metadata": {},
   "outputs": [],
   "source": [
    "from pyspark.ml.feature import Tokenizer"
   ]
  },
  {
   "cell_type": "code",
   "execution_count": 5,
   "metadata": {},
   "outputs": [
    {
     "data": {
      "text/html": [
       "<div>\n",
       "<style scoped>\n",
       "    .dataframe tbody tr th:only-of-type {\n",
       "        vertical-align: middle;\n",
       "    }\n",
       "\n",
       "    .dataframe tbody tr th {\n",
       "        vertical-align: top;\n",
       "    }\n",
       "\n",
       "    .dataframe thead th {\n",
       "        text-align: right;\n",
       "    }\n",
       "</style>\n",
       "<table border=\"1\" class=\"dataframe\">\n",
       "  <thead>\n",
       "    <tr style=\"text-align: right;\">\n",
       "      <th></th>\n",
       "      <th>label</th>\n",
       "      <th>sentence</th>\n",
       "      <th>words</th>\n",
       "    </tr>\n",
       "  </thead>\n",
       "  <tbody>\n",
       "    <tr>\n",
       "      <th>0</th>\n",
       "      <td>0</td>\n",
       "      <td>Hi I heard about Spark</td>\n",
       "      <td>[hi, i, heard, about, spark]</td>\n",
       "    </tr>\n",
       "    <tr>\n",
       "      <th>1</th>\n",
       "      <td>1</td>\n",
       "      <td>I wish Java could use case classes</td>\n",
       "      <td>[i, wish, java, could, use, case, classes]</td>\n",
       "    </tr>\n",
       "    <tr>\n",
       "      <th>2</th>\n",
       "      <td>2</td>\n",
       "      <td>Logistic,regression,models,are,neat</td>\n",
       "      <td>[logistic,regression,models,are,neat]</td>\n",
       "    </tr>\n",
       "  </tbody>\n",
       "</table>\n",
       "</div>"
      ],
      "text/plain": [
       "   label                             sentence  \\\n",
       "0      0               Hi I heard about Spark   \n",
       "1      1   I wish Java could use case classes   \n",
       "2      2  Logistic,regression,models,are,neat   \n",
       "\n",
       "                                        words  \n",
       "0                [hi, i, heard, about, spark]  \n",
       "1  [i, wish, java, could, use, case, classes]  \n",
       "2       [logistic,regression,models,are,neat]  "
      ]
     },
     "execution_count": 5,
     "metadata": {},
     "output_type": "execute_result"
    }
   ],
   "source": [
    "# sentenceDataFrame = spark.createDataFrame([\n",
    "#         (0, \"Hi I heard about Spark\"),\n",
    "#         (1, \"I wish Java could use case classes\"),\n",
    "#         (2, \"Logistic,regression,models,are,neat\")\n",
    "#     ], [\"label\", \"sentence\"])\n",
    "# tokenizer = Tokenizer(inputCol=\"sentence\", outputCol=\"words\")\n",
    "# wordsDataFrame = tokenizer.transform(sentenceDataFrame)\n",
    "# wordsDataFrame.toPandas()"
   ]
  },
  {
   "cell_type": "code",
   "execution_count": null,
   "metadata": {},
   "outputs": [],
   "source": []
  }
 ],
 "metadata": {
  "kernelspec": {
   "display_name": "Python 3",
   "language": "python",
   "name": "python3"
  },
  "language_info": {
   "codemirror_mode": {
    "name": "ipython",
    "version": 3
   },
   "file_extension": ".py",
   "mimetype": "text/x-python",
   "name": "python",
   "nbconvert_exporter": "python",
   "pygments_lexer": "ipython3",
   "version": "3.6.8"
  }
 },
 "nbformat": 4,
 "nbformat_minor": 2
}
